{
 "cells": [
  {
   "cell_type": "code",
   "execution_count": 1,
   "metadata": {},
   "outputs": [],
   "source": [
    "import pandas as pd\n",
    "import numpy as np\n",
    "import matplotlib.pyplot as plt\n",
    "import librosa\n",
    "import librosa.display\n",
    "import IPython"
   ]
  },
  {
   "cell_type": "code",
   "execution_count": 2,
   "metadata": {},
   "outputs": [],
   "source": [
    "file_path = \".\\GTZAN\\genres_original\\classical\\classical.00001.wav\"\n",
    "data, sr = librosa.load(file_path)"
   ]
  },
  {
   "cell_type": "code",
   "execution_count": 3,
   "metadata": {},
   "outputs": [],
   "source": [
    "df = pd.read_csv(\"GTZAN/features_30_sec.csv\")\n",
    "\n",
    "original_data = df[df['filename'] == 'classical.00001.wav']"
   ]
  },
  {
   "cell_type": "code",
   "execution_count": 4,
   "metadata": {},
   "outputs": [
    {
     "data": {
      "text/plain": [
       "101   -0.00009\n",
       "Name: perceptr_mean, dtype: float64"
      ]
     },
     "execution_count": 4,
     "metadata": {},
     "output_type": "execute_result"
    }
   ],
   "source": [
    "original_data['perceptr_mean']"
   ]
  },
  {
   "cell_type": "code",
   "execution_count": 21,
   "metadata": {},
   "outputs": [
    {
     "data": {
      "text/plain": [
       "(-9e-05,\n",
       " 101   -0.00009\n",
       " Name: perceptr_mean, dtype: float64)"
      ]
     },
     "execution_count": 21,
     "metadata": {},
     "output_type": "execute_result"
    }
   ],
   "source": [
    "np.mean(librosa.effects.percussive(y=data)).round(6), original_data['perceptr_mean'].round(6)"
   ]
  },
  {
   "cell_type": "code",
   "execution_count": 5,
   "metadata": {},
   "outputs": [
    {
     "data": {
      "text/plain": [
       "(-5.1e-05, -5.1e-05)"
      ]
     },
     "execution_count": 5,
     "metadata": {},
     "output_type": "execute_result"
    }
   ],
   "source": [
    "np.mean(librosa.effects.harmonic(y=data)).round(6), original_data['harmony_mean'].values[0].round(6)"
   ]
  },
  {
   "cell_type": "code",
   "execution_count": 6,
   "metadata": {},
   "outputs": [
    {
     "data": {
      "text/plain": [
       "Index(['filename', 'length', 'chroma_stft_mean', 'chroma_stft_var', 'rms_mean',\n",
       "       'rms_var', 'spectral_centroid_mean', 'spectral_centroid_var',\n",
       "       'spectral_bandwidth_mean', 'spectral_bandwidth_var', 'rolloff_mean',\n",
       "       'rolloff_var', 'zero_crossing_rate_mean', 'zero_crossing_rate_var',\n",
       "       'harmony_mean', 'harmony_var', 'perceptr_mean', 'perceptr_var', 'tempo',\n",
       "       'mfcc1_mean', 'mfcc1_var', 'mfcc2_mean', 'mfcc2_var', 'mfcc3_mean',\n",
       "       'mfcc3_var', 'mfcc4_mean', 'mfcc4_var', 'mfcc5_mean', 'mfcc5_var',\n",
       "       'mfcc6_mean', 'mfcc6_var', 'mfcc7_mean', 'mfcc7_var', 'mfcc8_mean',\n",
       "       'mfcc8_var', 'mfcc9_mean', 'mfcc9_var', 'mfcc10_mean', 'mfcc10_var',\n",
       "       'mfcc11_mean', 'mfcc11_var', 'mfcc12_mean', 'mfcc12_var', 'mfcc13_mean',\n",
       "       'mfcc13_var', 'mfcc14_mean', 'mfcc14_var', 'mfcc15_mean', 'mfcc15_var',\n",
       "       'mfcc16_mean', 'mfcc16_var', 'mfcc17_mean', 'mfcc17_var', 'mfcc18_mean',\n",
       "       'mfcc18_var', 'mfcc19_mean', 'mfcc19_var', 'mfcc20_mean', 'mfcc20_var',\n",
       "       'label'],\n",
       "      dtype='object')"
      ]
     },
     "execution_count": 6,
     "metadata": {},
     "output_type": "execute_result"
    }
   ],
   "source": [
    "df.columns"
   ]
  },
  {
   "cell_type": "code",
   "execution_count": 68,
   "metadata": {},
   "outputs": [],
   "source": [
    "filename = 'filename'\n",
    "# length = librosa.get_duration(y=data, sr=sr)\n",
    "length = data.shape[0]\n",
    "\n",
    "chroma_stft_mean = np.mean(librosa.feature.chroma_stft(y=data, sr=sr))\n",
    "chroma_stft_var = np.var(librosa.feature.chroma_stft(y=data, sr=sr))\n",
    "\n",
    "rms_mean = np.mean(librosa.feature.rms(y=data))\n",
    "rms_var = np.var(librosa.feature.rms(y=data))\n",
    "\n",
    "spectral_centroid_mean = np.mean(librosa.feature.spectral_centroid(y=data, sr=sr))\n",
    "spectral_centroid_var = np.var(librosa.feature.spectral_centroid(y=data, sr=sr))\n",
    "\n",
    "spectral_bandwidth_mean = np.mean(librosa.feature.spectral_bandwidth(y=data, sr=sr))\n",
    "spectral_bandwidth_var = np.var(librosa.feature.spectral_bandwidth(y=data, sr=sr))\n",
    "\n",
    "rolloff_mean = np.mean(librosa.feature.spectral_rolloff(y=data, sr=sr))\n",
    "rolloff_var = np.var(librosa.feature.spectral_rolloff(y=data, sr=sr))\n",
    "\n",
    "zero_crossing_rate_mean = np.mean(librosa.feature.zero_crossing_rate(y=data))\n",
    "zero_crossing_rate_var = np.var(librosa.feature.zero_crossing_rate(y=data))\n",
    "\n",
    "harmony_mean = np.mean(librosa.effects.harmonic(y=data))\n",
    "harmony_var = np.var(librosa.effects.harmonic(y=data))\n",
    "\n",
    "perceptr_mean = np.mean(librosa.effects.percussive(y=data))\n",
    "perceptr_var = np.var(librosa.effects.percussive(y=data))\n",
    "\n",
    "tempo = librosa.beat.beat_track(y=data, sr=sr)[0]\n",
    "\n",
    "mfcc = librosa.feature.mfcc(y=data, sr=sr, n_mfcc=20)\n",
    "\n",
    "mfcc1_mean = np.mean(mfcc[0])\n",
    "mfcc1_var = np.var(mfcc[0])\n",
    "\n",
    "mfcc2_mean = np.mean(mfcc[1])\n",
    "mfcc2_var = np.var(mfcc[1])\n",
    "\n",
    "mfcc3_mean = np.mean(mfcc[2])\n",
    "mfcc3_var = np.var(mfcc[2])\n",
    "\n",
    "mfcc4_mean = np.mean(mfcc[3])\n",
    "mfcc4_var = np.var(mfcc[3])\n",
    "\n",
    "mfcc5_mean = np.mean(mfcc[4])\n",
    "mfcc5_var = np.var(mfcc[4])\n",
    "\n",
    "mfcc6_mean = np.mean(mfcc[5])\n",
    "mfcc6_var = np.var(mfcc[5])\n",
    "\n",
    "mfcc7_mean = np.mean(mfcc[6])\n",
    "mfcc7_var = np.var(mfcc[6])\n",
    "\n",
    "mfcc8_mean = np.mean(mfcc[7])\n",
    "mfcc8_var = np.var(mfcc[7])\n",
    "\n",
    "mfcc9_mean = np.mean(mfcc[8])\n",
    "mfcc9_var = np.var(mfcc[8])\n",
    "\n",
    "mfcc10_mean = np.mean(mfcc[9])\n",
    "mfcc10_var = np.var(mfcc[9])\n",
    "\n",
    "mfcc11_mean = np.mean(mfcc[10])\n",
    "mfcc11_var = np.var(mfcc[10])\n",
    "\n",
    "mfcc12_mean = np.mean(mfcc[11])\n",
    "mfcc12_var = np.var(mfcc[11])\n",
    "\n",
    "mfcc13_mean = np.mean(mfcc[12])\n",
    "mfcc13_var = np.var(mfcc[12])\n",
    "\n",
    "mfcc14_mean = np.mean(mfcc[13])\n",
    "mfcc14_var = np.var(mfcc[13])\n",
    "\n",
    "mfcc15_mean = np.mean(mfcc[14])\n",
    "mfcc15_var = np.var(mfcc[14])\n",
    "\n",
    "mfcc16_mean = np.mean(mfcc[15])\n",
    "mfcc16_var = np.var(mfcc[15])\n",
    "\n",
    "mfcc17_mean = np.mean(mfcc[16])\n",
    "mfcc17_var = np.var(mfcc[16])\n",
    "\n",
    "mfcc18_mean = np.mean(mfcc[17])\n",
    "mfcc18_var = np.var(mfcc[17])\n",
    "\n",
    "mfcc19_mean = np.mean(mfcc[18])\n",
    "mfcc19_var = np.var(mfcc[18])\n",
    "\n",
    "mfcc20_mean = np.mean(mfcc[19])\n",
    "mfcc20_var = np.var(mfcc[19])"
   ]
  },
  {
   "cell_type": "code",
   "execution_count": 8,
   "metadata": {},
   "outputs": [
    {
     "data": {
      "text/plain": [
       "(0.21499503,\n",
       " 0.08500956,\n",
       " 0.030625174,\n",
       " 0.00016096835,\n",
       " 1360.6436715050704,\n",
       " 61611.21284786678,\n",
       " 1441.2431338982644,\n",
       " 32378.729688153617,\n",
       " 2387.7291296584976,\n",
       " 368797.137917146)"
      ]
     },
     "execution_count": 8,
     "metadata": {},
     "output_type": "execute_result"
    }
   ],
   "source": [
    "chroma_stft_mean, chroma_stft_var, rms_mean, rms_var, spectral_centroid_mean, spectral_centroid_var, \\\n",
    "spectral_bandwidth_mean, spectral_bandwidth_var, rolloff_mean, rolloff_var\n"
   ]
  },
  {
   "cell_type": "code",
   "execution_count": 51,
   "metadata": {},
   "outputs": [
    {
     "data": {
      "text/plain": [
       "array([[ 6.61794000e+05,  2.14995041e-01,  8.50095600e-02,\n",
       "         3.06251738e-02,  1.60968353e-04,  1.36064367e+03,\n",
       "         6.16112128e+04,  1.44124313e+03,  3.23787297e+04,\n",
       "         2.38772913e+03,  3.68797138e+05,  8.77656280e-02,\n",
       "         6.29679190e-04, -5.12500883e-05,  1.04665407e-03,\n",
       "        -9.03271794e-05,  8.39300355e-06,  1.12347147e+02,\n",
       "        -3.24061157e+02,  9.84016602e+02,  1.33594574e+02,\n",
       "         3.33298309e+02, -2.50446911e+01,  1.87519211e+02,\n",
       "         2.45526428e+01,  1.51717102e+02, -1.19470243e+01,\n",
       "         1.30163788e+02,  1.76675587e+01,  1.39478973e+02,\n",
       "        -5.52433634e+00,  1.23143333e+02,  1.71105039e+00,\n",
       "         8.21829071e+01, -1.05771418e+01,  7.67266159e+01,\n",
       "        -8.49828899e-01,  8.21895752e+01, -7.80810356e+00,\n",
       "         9.84310455e+01,  3.52535486e+00,  1.17615982e+02,\n",
       "         5.04882336e+00,  1.92858704e+02,  1.36747932e+00,\n",
       "         1.56295410e+02,  3.01091576e+00,  1.63492508e+02,\n",
       "        -3.12868810e+00,  1.58498138e+02, -4.28984642e+00,\n",
       "         7.56764297e+01,  5.91009140e-01,  1.34617706e+02,\n",
       "         2.87763095e+00,  1.53630554e+02,  3.73280644e-01,\n",
       "         1.23707390e+02]])"
      ]
     },
     "execution_count": 51,
     "metadata": {},
     "output_type": "execute_result"
    }
   ],
   "source": [
    "original_data.iloc[:,1:-1].values.astype('float')"
   ]
  },
  {
   "cell_type": "code",
   "execution_count": 69,
   "metadata": {},
   "outputs": [],
   "source": [
    "generated = np.array([length, chroma_stft_mean, chroma_stft_var, rms_mean,\n",
    "            rms_var, spectral_centroid_mean, spectral_centroid_var,\n",
    "            spectral_bandwidth_mean, spectral_bandwidth_var, rolloff_mean,\n",
    "            rolloff_var, zero_crossing_rate_mean, zero_crossing_rate_var,\n",
    "            harmony_mean, harmony_var, perceptr_mean, perceptr_var, tempo,\n",
    "            mfcc1_mean, mfcc1_var, mfcc2_mean, mfcc2_var, mfcc3_mean,\n",
    "            mfcc3_var, mfcc4_mean, mfcc4_var, mfcc5_mean, mfcc5_var,\n",
    "            mfcc6_mean, mfcc6_var, mfcc7_mean, mfcc7_var, mfcc8_mean,\n",
    "            mfcc8_var, mfcc9_mean, mfcc9_var, mfcc10_mean, mfcc10_var,\n",
    "            mfcc11_mean, mfcc11_var, mfcc12_mean, mfcc12_var, mfcc13_mean,\n",
    "            mfcc13_var, mfcc14_mean, mfcc14_var, mfcc15_mean, mfcc15_var,\n",
    "            mfcc16_mean, mfcc16_var, mfcc17_mean, mfcc17_var, mfcc18_mean,\n",
    "            mfcc18_var, mfcc19_mean, mfcc19_var, mfcc20_mean, mfcc20_var]).astype('float')\n"
   ]
  },
  {
   "cell_type": "code",
   "execution_count": 70,
   "metadata": {},
   "outputs": [],
   "source": [
    "for i in range(generated.shape[0]):\n",
    "    if original_data.iloc[:,1:-1].values[0][i].round(3) != generated[i].round(3):\n",
    "        print(original_data.iloc[:,1:-1].values[0][i].round(3), generated[i].round(3))\n",
    "        print(i)"
   ]
  },
  {
   "cell_type": "code",
   "execution_count": 72,
   "metadata": {},
   "outputs": [
    {
     "data": {
      "text/plain": [
       "True"
      ]
     },
     "execution_count": 72,
     "metadata": {},
     "output_type": "execute_result"
    }
   ],
   "source": [
    "np.array_equal(original_data.iloc[:,1:-1].values[0].round(3), generated.round(3))"
   ]
  },
  {
   "cell_type": "code",
   "execution_count": 67,
   "metadata": {},
   "outputs": [
    {
     "data": {
      "text/plain": [
       "(101    984.016602\n",
       " Name: mfcc1_var, dtype: float64,\n",
       " -324.0611572265625)"
      ]
     },
     "execution_count": 67,
     "metadata": {},
     "output_type": "execute_result"
    }
   ],
   "source": [
    "original_data.iloc[:,20], generated[19]"
   ]
  },
  {
   "cell_type": "code",
   "execution_count": null,
   "metadata": {},
   "outputs": [],
   "source": []
  }
 ],
 "metadata": {
  "kernelspec": {
   "display_name": "Python 3",
   "language": "python",
   "name": "python3"
  },
  "language_info": {
   "codemirror_mode": {
    "name": "ipython",
    "version": 3
   },
   "file_extension": ".py",
   "mimetype": "text/x-python",
   "name": "python",
   "nbconvert_exporter": "python",
   "pygments_lexer": "ipython3",
   "version": "3.8.5"
  }
 },
 "nbformat": 4,
 "nbformat_minor": 4
}
