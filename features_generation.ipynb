{
 "cells": [
  {
   "cell_type": "code",
   "execution_count": 63,
   "metadata": {},
   "outputs": [],
   "source": [
    "import pandas as pd\n",
    "import numpy as np\n",
    "import matplotlib.pyplot as plt\n",
    "import librosa\n",
    "import librosa.display\n",
    "import IPython"
   ]
  },
  {
   "cell_type": "code",
   "execution_count": 2,
   "metadata": {},
   "outputs": [],
   "source": [
    "file_path = \".\\GTZAN\\genres_original\\classical\\classical.00001.wav\"\n",
    "data, sr = librosa.load(file_path)"
   ]
  },
  {
   "cell_type": "code",
   "execution_count": 13,
   "metadata": {},
   "outputs": [],
   "source": [
    "df = pd.read_csv(\"GTZAN/features_30_sec.csv\")\n",
    "\n",
    "original_data = df[df['filename'] == 'classical.00001.wav']"
   ]
  },
  {
   "cell_type": "code",
   "execution_count": 103,
   "metadata": {},
   "outputs": [
    {
     "data": {
      "text/plain": [
       "101   -0.00009\n",
       "Name: perceptr_mean, dtype: float64"
      ]
     },
     "execution_count": 103,
     "metadata": {},
     "output_type": "execute_result"
    }
   ],
   "source": [
    "original_data['perceptr_mean']"
   ]
  },
  {
   "cell_type": "code",
   "execution_count": 102,
   "metadata": {},
   "outputs": [
    {
     "data": {
      "text/plain": [
       "(-5.1e-05, -5.1e-05)"
      ]
     },
     "execution_count": 102,
     "metadata": {},
     "output_type": "execute_result"
    }
   ],
   "source": [
    "np.mean(librosa.effects.harmonic(y=data)).round(6), original_data['harmony_mean'].values[0].round(6)"
   ]
  },
  {
   "cell_type": "code",
   "execution_count": 17,
   "metadata": {},
   "outputs": [
    {
     "data": {
      "text/plain": [
       "Index(['filename', 'length', 'chroma_stft_mean', 'chroma_stft_var', 'rms_mean',\n",
       "       'rms_var', 'spectral_centroid_mean', 'spectral_centroid_var',\n",
       "       'spectral_bandwidth_mean', 'spectral_bandwidth_var', 'rolloff_mean',\n",
       "       'rolloff_var', 'zero_crossing_rate_mean', 'zero_crossing_rate_var',\n",
       "       'harmony_mean', 'harmony_var', 'perceptr_mean', 'perceptr_var', 'tempo',\n",
       "       'mfcc1_mean', 'mfcc1_var', 'mfcc2_mean', 'mfcc2_var', 'mfcc3_mean',\n",
       "       'mfcc3_var', 'mfcc4_mean', 'mfcc4_var', 'mfcc5_mean', 'mfcc5_var',\n",
       "       'mfcc6_mean', 'mfcc6_var', 'mfcc7_mean', 'mfcc7_var', 'mfcc8_mean',\n",
       "       'mfcc8_var', 'mfcc9_mean', 'mfcc9_var', 'mfcc10_mean', 'mfcc10_var',\n",
       "       'mfcc11_mean', 'mfcc11_var', 'mfcc12_mean', 'mfcc12_var', 'mfcc13_mean',\n",
       "       'mfcc13_var', 'mfcc14_mean', 'mfcc14_var', 'mfcc15_mean', 'mfcc15_var',\n",
       "       'mfcc16_mean', 'mfcc16_var', 'mfcc17_mean', 'mfcc17_var', 'mfcc18_mean',\n",
       "       'mfcc18_var', 'mfcc19_mean', 'mfcc19_var', 'mfcc20_mean', 'mfcc20_var',\n",
       "       'label'],\n",
       "      dtype='object')"
      ]
     },
     "execution_count": 17,
     "metadata": {},
     "output_type": "execute_result"
    }
   ],
   "source": [
    "df.columns"
   ]
  },
  {
   "cell_type": "code",
   "execution_count": 75,
   "metadata": {},
   "outputs": [],
   "source": [
    "filename = 'filename'\n",
    "length = librosa.get_duration(y=data, sr=sr)\n",
    "\n",
    "chroma_stft_mean = np.mean(librosa.feature.chroma_stft(y=data, sr=sr))\n",
    "chroma_stft_var = np.var(librosa.feature.chroma_stft(y=data, sr=sr))\n",
    "\n",
    "rms_mean = np.mean(librosa.feature.rms(y=data))\n",
    "rms_var = np.var(librosa.feature.rms(y=data))\n",
    "\n",
    "spectral_centroid_mean = np.mean(librosa.feature.spectral_centroid(y=data, sr=sr))\n",
    "spectral_centroid_var = np.var(librosa.feature.spectral_centroid(y=data, sr=sr))\n",
    "\n",
    "spectral_bandwidth_mean = np.mean(librosa.feature.spectral_bandwidth(y=data, sr=sr))\n",
    "spectral_bandwidth_var = np.var(librosa.feature.spectral_bandwidth(y=data, sr=sr))\n",
    "\n",
    "rolloff_mean = np.mean(librosa.feature.spectral_rolloff(y=data, sr=sr))\n",
    "rolloff_var = np.var(librosa.feature.spectral_rolloff(y=data, sr=sr))\n",
    "\n",
    "zero_crossing_rate_mean = np.mean(librosa.feature.zero_crossing_rate(y=data))\n",
    "zero_crossing_rate_var = np.var(librosa.feature.zero_crossing_rate(y=data))\n",
    "\n",
    "harmony_mean = np.mean(librosa.effects.harmonic(y=data))\n",
    "harmony_var = np.var(librosa.effects.harmonic(y=data))\n",
    "\n",
    "# perceptr_mean = np.mean()\n",
    "# perceptr_var = np.var()\n",
    "\n",
    "tempo = librosa.beat.beat_track(y=data, sr=sr)[0]\n",
    "\n",
    "mfcc = librosa.feature.mfcc(y=data, sr=sr, n_mfcc=20)\n",
    "\n",
    "mfcc1_mean = np.mean(mfcc[0])\n",
    "mfcc1_var = np.mean(mfcc[0])\n",
    "\n",
    "mfcc2_mean = np.mean(mfcc[1])\n",
    "mfcc2_var = np.var(mfcc[1])\n",
    "\n",
    "mfcc3_mean = np.mean(mfcc[2])\n",
    "mfcc3_var = np.var(mfcc[2])\n",
    "\n",
    "mfcc4_mean = np.mean(mfcc[3])\n",
    "mfcc4_var = np.var(mfcc[3])\n",
    "\n",
    "mfcc5_mean = np.mean(mfcc[4])\n",
    "mfcc5_var = np.var(mfcc[4])\n",
    "\n",
    "mfcc6_mean = np.mean(mfcc[5])\n",
    "mfcc6_var = np.var(mfcc[5])\n",
    "\n",
    "mfcc7_mean = np.mean(mfcc[6])\n",
    "mfcc7_var = np.var(mfcc[6])\n",
    "\n",
    "mfcc8_mean = np.mean(mfcc[7])\n",
    "mfcc8_var = np.var(mfcc[7])\n",
    "\n",
    "mfcc9_mean = np.mean(mfcc[8])\n",
    "mfcc9_var = np.var(mfcc[8])\n",
    "\n",
    "mfcc10_mean = np.mean(mfcc[9])\n",
    "mfcc10_var = np.var(mfcc[9])\n",
    "\n",
    "mfcc11_mean = np.mean(mfcc[10])\n",
    "mfcc11_var = np.var(mfcc[10])\n",
    "\n",
    "mfcc12_mean = np.mean(mfcc[11])\n",
    "mfcc12_var = np.var(mfcc[11])\n",
    "\n",
    "mfcc13_mean = np.mean(mfcc[12])\n",
    "mfcc13_var = np.var(mfcc[12])\n",
    "\n",
    "mfcc14_mean = np.mean(mfcc[13])\n",
    "mfcc14_var = np.var(mfcc[13])\n",
    "\n",
    "mfcc15_mean = np.mean(mfcc[14])\n",
    "mfcc15_var = np.var(mfcc[14])\n",
    "\n",
    "mfcc16_mean = np.mean(mfcc[15])\n",
    "mfcc16_var = np.var(mfcc[15])\n",
    "\n",
    "mfcc17_mean = np.mean(mfcc[16])\n",
    "mfcc17_var = np.var(mfcc[16])\n",
    "\n",
    "mfcc18_mean = np.mean(mfcc[17])\n",
    "mfcc18_var = np.var(mfcc[17])\n",
    "\n",
    "mfcc19_mean = np.mean(mfcc[18])\n",
    "mfcc19_var = np.var(mfcc[18])\n",
    "\n",
    "mfcc20_mean = np.mean(mfcc[19])\n",
    "mfcc20_var = np.var(mfcc[19])"
   ]
  },
  {
   "cell_type": "code",
   "execution_count": 53,
   "metadata": {},
   "outputs": [
    {
     "data": {
      "text/plain": [
       "(0.21499503,\n",
       " 0.08500956,\n",
       " 0.030625174,\n",
       " 0.00016096835,\n",
       " 1360.6436715050704,\n",
       " 61611.21284786678,\n",
       " 1441.2431338982644,\n",
       " 32378.729688153617,\n",
       " 2387.7291296584976,\n",
       " 368797.137917146)"
      ]
     },
     "execution_count": 53,
     "metadata": {},
     "output_type": "execute_result"
    }
   ],
   "source": [
    "chroma_stft_mean, chroma_stft_var, rms_mean, rms_var, spectral_centroid_mean, spectral_centroid_var, \\\n",
    "spectral_bandwidth_mean, spectral_bandwidth_var, rolloff_mean, rolloff_var\n"
   ]
  },
  {
   "cell_type": "code",
   "execution_count": 76,
   "metadata": {},
   "outputs": [
    {
     "data": {
      "text/html": [
       "<div>\n",
       "<style scoped>\n",
       "    .dataframe tbody tr th:only-of-type {\n",
       "        vertical-align: middle;\n",
       "    }\n",
       "\n",
       "    .dataframe tbody tr th {\n",
       "        vertical-align: top;\n",
       "    }\n",
       "\n",
       "    .dataframe thead th {\n",
       "        text-align: right;\n",
       "    }\n",
       "</style>\n",
       "<table border=\"1\" class=\"dataframe\">\n",
       "  <thead>\n",
       "    <tr style=\"text-align: right;\">\n",
       "      <th></th>\n",
       "      <th>mfcc1_mean</th>\n",
       "      <th>mfcc1_var</th>\n",
       "      <th>mfcc2_mean</th>\n",
       "      <th>mfcc2_var</th>\n",
       "      <th>mfcc3_mean</th>\n",
       "      <th>mfcc3_var</th>\n",
       "      <th>mfcc4_mean</th>\n",
       "      <th>mfcc4_var</th>\n",
       "      <th>mfcc5_mean</th>\n",
       "      <th>mfcc5_var</th>\n",
       "      <th>...</th>\n",
       "      <th>mfcc16_mean</th>\n",
       "      <th>mfcc16_var</th>\n",
       "      <th>mfcc17_mean</th>\n",
       "      <th>mfcc17_var</th>\n",
       "      <th>mfcc18_mean</th>\n",
       "      <th>mfcc18_var</th>\n",
       "      <th>mfcc19_mean</th>\n",
       "      <th>mfcc19_var</th>\n",
       "      <th>mfcc20_mean</th>\n",
       "      <th>mfcc20_var</th>\n",
       "    </tr>\n",
       "  </thead>\n",
       "  <tbody>\n",
       "    <tr>\n",
       "      <th>101</th>\n",
       "      <td>-324.061157</td>\n",
       "      <td>984.016602</td>\n",
       "      <td>133.594574</td>\n",
       "      <td>333.298309</td>\n",
       "      <td>-25.044691</td>\n",
       "      <td>187.519211</td>\n",
       "      <td>24.552643</td>\n",
       "      <td>151.717102</td>\n",
       "      <td>-11.947024</td>\n",
       "      <td>130.163788</td>\n",
       "      <td>...</td>\n",
       "      <td>-3.128688</td>\n",
       "      <td>158.498138</td>\n",
       "      <td>-4.289846</td>\n",
       "      <td>75.67643</td>\n",
       "      <td>0.591009</td>\n",
       "      <td>134.617706</td>\n",
       "      <td>2.877631</td>\n",
       "      <td>153.630554</td>\n",
       "      <td>0.373281</td>\n",
       "      <td>123.70739</td>\n",
       "    </tr>\n",
       "  </tbody>\n",
       "</table>\n",
       "<p>1 rows × 40 columns</p>\n",
       "</div>"
      ],
      "text/plain": [
       "     mfcc1_mean   mfcc1_var  mfcc2_mean   mfcc2_var  mfcc3_mean   mfcc3_var  \\\n",
       "101 -324.061157  984.016602  133.594574  333.298309  -25.044691  187.519211   \n",
       "\n",
       "     mfcc4_mean   mfcc4_var  mfcc5_mean   mfcc5_var  ...  mfcc16_mean  \\\n",
       "101   24.552643  151.717102  -11.947024  130.163788  ...    -3.128688   \n",
       "\n",
       "     mfcc16_var  mfcc17_mean  mfcc17_var  mfcc18_mean  mfcc18_var  \\\n",
       "101  158.498138    -4.289846    75.67643     0.591009  134.617706   \n",
       "\n",
       "     mfcc19_mean  mfcc19_var  mfcc20_mean  mfcc20_var  \n",
       "101     2.877631  153.630554     0.373281   123.70739  \n",
       "\n",
       "[1 rows x 40 columns]"
      ]
     },
     "execution_count": 76,
     "metadata": {},
     "output_type": "execute_result"
    }
   ],
   "source": [
    "original_data[['mfcc1_mean', 'mfcc1_var', 'mfcc2_mean', 'mfcc2_var', 'mfcc3_mean',\n",
    "       'mfcc3_var', 'mfcc4_mean', 'mfcc4_var', 'mfcc5_mean', 'mfcc5_var',\n",
    "       'mfcc6_mean', 'mfcc6_var', 'mfcc7_mean', 'mfcc7_var', 'mfcc8_mean',\n",
    "       'mfcc8_var', 'mfcc9_mean', 'mfcc9_var', 'mfcc10_mean', 'mfcc10_var',\n",
    "       'mfcc11_mean', 'mfcc11_var', 'mfcc12_mean', 'mfcc12_var', 'mfcc13_mean',\n",
    "       'mfcc13_var', 'mfcc14_mean', 'mfcc14_var', 'mfcc15_mean', 'mfcc15_var',\n",
    "       'mfcc16_mean', 'mfcc16_var', 'mfcc17_mean', 'mfcc17_var', 'mfcc18_mean',\n",
    "       'mfcc18_var', 'mfcc19_mean', 'mfcc19_var', 'mfcc20_mean', 'mfcc20_var']]"
   ]
  },
  {
   "cell_type": "code",
   "execution_count": 77,
   "metadata": {},
   "outputs": [
    {
     "data": {
      "text/plain": [
       "(-324.06116,\n",
       " -324.06116,\n",
       " 133.59457,\n",
       " 333.2983,\n",
       " -25.044693,\n",
       " 187.51924,\n",
       " 24.552643,\n",
       " 151.71712,\n",
       " -11.947024,\n",
       " 130.16379,\n",
       " 17.667559,\n",
       " 139.47894,\n",
       " -5.5243363,\n",
       " 123.14334,\n",
       " 1.7110506,\n",
       " 82.18291,\n",
       " -10.577142,\n",
       " 76.726616,\n",
       " -0.8498296,\n",
       " 82.189575,\n",
       " -7.8081026,\n",
       " 98.431046,\n",
       " 3.525355,\n",
       " 117.61598,\n",
       " 5.0488234,\n",
       " 192.8587,\n",
       " 1.3674799,\n",
       " 156.29543,\n",
       " 3.010916,\n",
       " 163.49251,\n",
       " -3.1286888,\n",
       " 158.49814,\n",
       " -4.2898464,\n",
       " 75.676445,\n",
       " 0.59100914,\n",
       " 134.61772,\n",
       " 2.877631,\n",
       " 153.63055,\n",
       " 0.37327987,\n",
       " 123.70739)"
      ]
     },
     "execution_count": 77,
     "metadata": {},
     "output_type": "execute_result"
    }
   ],
   "source": [
    "(mfcc1_mean ,mfcc1_var, mfcc2_mean, mfcc2_var, mfcc3_mean,\n",
    "mfcc3_var, mfcc4_mean, mfcc4_var, mfcc5_mean, mfcc5_var,\n",
    "mfcc6_mean, mfcc6_var, mfcc7_mean, mfcc7_var, mfcc8_mean,\n",
    "mfcc8_var, mfcc9_mean, mfcc9_var, mfcc10_mean, mfcc10_var,\n",
    "mfcc11_mean, mfcc11_var, mfcc12_mean, mfcc12_var, mfcc13_mean,\n",
    "mfcc13_var, mfcc14_mean, mfcc14_var, mfcc15_mean, mfcc15_var,\n",
    "mfcc16_mean, mfcc16_var, mfcc17_mean, mfcc17_var, mfcc18_mean,\n",
    "mfcc18_var, mfcc19_mean, mfcc19_var, mfcc20_mean, mfcc20_var)"
   ]
  }
 ],
 "metadata": {
  "kernelspec": {
   "display_name": "Python 3",
   "language": "python",
   "name": "python3"
  },
  "language_info": {
   "codemirror_mode": {
    "name": "ipython",
    "version": 3
   },
   "file_extension": ".py",
   "mimetype": "text/x-python",
   "name": "python",
   "nbconvert_exporter": "python",
   "pygments_lexer": "ipython3",
   "version": "3.8.5"
  }
 },
 "nbformat": 4,
 "nbformat_minor": 4
}
